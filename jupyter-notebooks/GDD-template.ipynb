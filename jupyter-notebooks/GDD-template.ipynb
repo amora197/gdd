{
 "cells": [
  {
   "cell_type": "markdown",
   "metadata": {},
   "source": [
    "# <span style=\"color:blue\">GDD Analysis - Template</span>"
   ]
  },
  {
   "cell_type": "markdown",
   "metadata": {},
   "source": [
    "#### Original Data Extracted from VCF File"
   ]
  },
  {
   "cell_type": "code",
   "execution_count": null,
   "metadata": {},
   "outputs": [],
   "source": [
    "from GDDfunctions import *"
   ]
  },
  {
   "cell_type": "code",
   "execution_count": null,
   "metadata": {},
   "outputs": [],
   "source": [
    "# from VCFtoTable import *\n",
    "# from GTtable import *\n",
    "# from GTplots import *\n",
    "# from GTplot import *\n",
    "# from BarPlots import *\n",
    "# from CTbarPlots import *\n",
    "# from variant_hist import*\n",
    "# from stats import *\n",
    "# from FilterVCF import *\n",
    "# from GTfilter import*\n",
    "# from CTguide import *"
   ]
  },
  {
   "cell_type": "code",
   "execution_count": null,
   "metadata": {},
   "outputs": [],
   "source": [
    "# from functions.VCFtoTable import *\n",
    "# from functions.GTtable import *\n",
    "# from functions.GTplots import *\n",
    "# from functions.GTplot import *\n",
    "# from functions.BarPlots import *\n",
    "# from functions.CTbarPlots import *\n",
    "# from functions.variant_hist import*\n",
    "# from functions.stats import *\n",
    "# from functions.FilterVCF import *\n",
    "# from functions.GTfilter import*\n",
    "# from functions.CTguide import *"
   ]
  },
  {
   "cell_type": "code",
   "execution_count": null,
   "metadata": {},
   "outputs": [],
   "source": [
    "vcf_crop = '/path/to/vcf_file.vcf'"
   ]
  },
  {
   "cell_type": "code",
   "execution_count": null,
   "metadata": {},
   "outputs": [],
   "source": [
    "samples_all, vcf_df, chrom_len = VCFtoTable(vcf_crop)"
   ]
  },
  {
   "cell_type": "code",
   "execution_count": null,
   "metadata": {},
   "outputs": [],
   "source": [
    "samples_all"
   ]
  },
  {
   "cell_type": "code",
   "execution_count": null,
   "metadata": {},
   "outputs": [],
   "source": [
    "# edit progenitor/mutant names accordingly\n",
    "progenitor = 'parent_name_from_samples_all'\n",
    "mutant = 'mutant_name_from_samples_all'\n",
    "samples = [progenitor, mutant]\n",
    "samples"
   ]
  },
  {
   "cell_type": "code",
   "execution_count": null,
   "metadata": {},
   "outputs": [],
   "source": [
    "vcf_df"
   ]
  },
  {
   "cell_type": "code",
   "execution_count": null,
   "metadata": {},
   "outputs": [],
   "source": [
    "chrom_len"
   ]
  },
  {
   "cell_type": "markdown",
   "metadata": {},
   "source": [
    "## <span style=\"color:blue\"> PART 0: Raw </span>"
   ]
  },
  {
   "cell_type": "markdown",
   "metadata": {},
   "source": [
    "#### Contingency Table - RAW - All Chromosomes - (No 0/0, 0/1, 1/1 Filtered)"
   ]
  },
  {
   "cell_type": "code",
   "execution_count": null,
   "metadata": {},
   "outputs": [],
   "source": [
    "contingency_table_0 = contingency_table(samples, vcf_df, 'all')"
   ]
  },
  {
   "cell_type": "markdown",
   "metadata": {},
   "source": [
    "#### GT Plot - RAW - All Chromosomes - (No 0/0, 1/1, 'Other' GTs Filtered)"
   ]
  },
  {
   "cell_type": "code",
   "execution_count": null,
   "metadata": {},
   "outputs": [],
   "source": [
    "plt.close('all')\n",
    "GTplot(samples, vcf_df, chrom_len)"
   ]
  },
  {
   "cell_type": "markdown",
   "metadata": {},
   "source": [
    "#### Histograms - `DP`, `QUAL`, `TYPE` and `GT` Attributes - All Chromosomes - Unfiltered"
   ]
  },
  {
   "cell_type": "code",
   "execution_count": null,
   "metadata": {},
   "outputs": [],
   "source": [
    "plot_variant_hist(samples, vcf_df, 'all', 'DP', bins=200, MSTD=True, xmax=600)"
   ]
  },
  {
   "cell_type": "code",
   "execution_count": null,
   "metadata": {},
   "outputs": [],
   "source": [
    "plot_variant_hist(samples, vcf_df, 'all', 'QUAL', bins=200,  MSTD=True, xmax=7000)"
   ]
  },
  {
   "cell_type": "code",
   "execution_count": null,
   "metadata": {},
   "outputs": [],
   "source": [
    "plot_variant_hist(samples, vcf_df, 'all', 'TYPE', bins=5)"
   ]
  },
  {
   "cell_type": "code",
   "execution_count": null,
   "metadata": {},
   "outputs": [],
   "source": [
    "plot_variant_hist(samples, vcf_df, 'all', '%s_GT' % progenitor, bins=15)"
   ]
  },
  {
   "cell_type": "code",
   "execution_count": null,
   "metadata": {},
   "outputs": [],
   "source": [
    "plot_variant_hist(samples, vcf_df, 'all', '%s_GT' % mutant, bins=15)"
   ]
  },
  {
   "cell_type": "markdown",
   "metadata": {},
   "source": [
    "#### Stacked Bar Plots - RAW"
   ]
  },
  {
   "cell_type": "code",
   "execution_count": null,
   "metadata": {},
   "outputs": [],
   "source": [
    "ct_guide()"
   ]
  },
  {
   "cell_type": "code",
   "execution_count": null,
   "metadata": {},
   "outputs": [],
   "source": [
    "plt.close('all')\n",
    "window_size = 1000000\n",
    "CTbarPlots(samples, vcf_df, chrom_len, window_size)"
   ]
  },
  {
   "cell_type": "markdown",
   "metadata": {},
   "source": [
    "## <span style=\"color:blue\"> PART 1: Filter Out Mitochondria and Chloroplast Chromosomes </span>"
   ]
  },
  {
   "cell_type": "markdown",
   "metadata": {},
   "source": [
    "#### Drop Mitochrondria and Chloroplast Chromosomes from `vcf_df` and `chrom_len`"
   ]
  },
  {
   "cell_type": "code",
   "execution_count": null,
   "metadata": {},
   "outputs": [],
   "source": [
    "# add as many mitochondria/chloroplast chromosomes to exclude separated by commas\n",
    "drop_mito_chloro = \"CHROM != chrom_to_exclude_1, CHROM != chrom_to_exclude_2, ..., CHROM!=normal_chrom_N\"\n",
    "vcf_df_00 = filter_vcf(vcf_df, drop_mito_chloro)\n",
    "vcf_df_00"
   ]
  },
  {
   "cell_type": "code",
   "execution_count": null,
   "metadata": {},
   "outputs": [],
   "source": [
    "mito_chloro = ['chrom_to_exclude_1','chrom_to_exclude_2']\n",
    "chrom_len_00 = chrom_len.drop(mito_chloro)\n",
    "chrom_len_00"
   ]
  },
  {
   "cell_type": "markdown",
   "metadata": {},
   "source": [
    "#### Create Mitochrondria and Chloroplast Variants and Chomosome Length Dataframes"
   ]
  },
  {
   "cell_type": "code",
   "execution_count": null,
   "metadata": {},
   "outputs": [],
   "source": [
    "drop_chrom = \"CHROM!=normal_chrom_1, CHROM!=normal_chrom_2, ..., CHROM!=normal_chrom_N\"\n",
    "vcf_df_mito_chloro = filter_vcf(vcf_df, drop_chrom)\n",
    "vcf_df_mito_chloro"
   ]
  },
  {
   "cell_type": "code",
   "execution_count": null,
   "metadata": {},
   "outputs": [],
   "source": [
    "mito_chloro_len = chrom_len.loc[mito_chloro]\n",
    "mito_chloro_len"
   ]
  },
  {
   "cell_type": "markdown",
   "metadata": {},
   "source": [
    "#### Contingency Table - No Mitochondria/Chloroplast"
   ]
  },
  {
   "cell_type": "code",
   "execution_count": null,
   "metadata": {},
   "outputs": [],
   "source": [
    "contingency_table_1 = contingency_table(samples, vcf_df_00, 'all')"
   ]
  },
  {
   "cell_type": "markdown",
   "metadata": {},
   "source": [
    "#### GT Plot - No Mitochondria/Chloroplast"
   ]
  },
  {
   "cell_type": "code",
   "execution_count": null,
   "metadata": {},
   "outputs": [],
   "source": [
    "# plt.close('all')\n",
    "# GTplot(samples, vcf_df_00, chrom_len_00)"
   ]
  },
  {
   "cell_type": "markdown",
   "metadata": {},
   "source": [
    "#### Histograms - `DP`, `QUAL`, `TYPE` and `GT` Attributes - No Mitochondria/Chloroplast"
   ]
  },
  {
   "cell_type": "code",
   "execution_count": null,
   "metadata": {},
   "outputs": [],
   "source": [
    "plot_variant_hist(samples, vcf_df_00, 'all', 'DP', bins=200, MSTD=True, xmax=600)"
   ]
  },
  {
   "cell_type": "code",
   "execution_count": null,
   "metadata": {},
   "outputs": [],
   "source": [
    "plot_variant_hist(samples, vcf_df_00, 'all', 'QUAL', bins=200,  MSTD=True, xmax=7000)"
   ]
  },
  {
   "cell_type": "code",
   "execution_count": null,
   "metadata": {},
   "outputs": [],
   "source": [
    "plot_variant_hist(samples, vcf_df_00, 'all', 'TYPE', bins=5)"
   ]
  },
  {
   "cell_type": "code",
   "execution_count": null,
   "metadata": {},
   "outputs": [],
   "source": [
    "plot_variant_hist(samples, vcf_df_00, 'all', '%s_GT' % progenitor, bins=15)"
   ]
  },
  {
   "cell_type": "code",
   "execution_count": null,
   "metadata": {},
   "outputs": [],
   "source": [
    "plot_variant_hist(samples, vcf_df_00, 'all', '%s_GT' % mutant, bins=15)"
   ]
  },
  {
   "cell_type": "markdown",
   "metadata": {},
   "source": [
    "## <span style=\"color:blue\">PART 2: Cutting Off by Mean±2StdDev Histograms of `DP` Attribute</span>"
   ]
  },
  {
   "cell_type": "code",
   "execution_count": null,
   "metadata": {},
   "outputs": [],
   "source": [
    "cutoff_left = vcf_df_00.DP.mean() - (2 * vcf_df_00.DP.std())\n",
    "cutoff_right = vcf_df_00.DP.mean() + (2 * vcf_df_00.DP.std())\n",
    "\n",
    "filter_dp = \"DP >= %i, DP <= %i\" % (cutoff_left, cutoff_right)\n",
    "print(filter_dp)\n",
    "\n",
    "vcf_df_01 = filter_vcf(vcf_df_00, filter_dp)\n",
    "vcf_df_01"
   ]
  },
  {
   "cell_type": "markdown",
   "metadata": {},
   "source": [
    "#### Verify DP Histogram Cutoff Off by Mean±2StdDev"
   ]
  },
  {
   "cell_type": "code",
   "execution_count": null,
   "metadata": {},
   "outputs": [],
   "source": [
    "plot_variant_hist(samples, vcf_df_01, 'all', 'DP', bins=200, xmax=200)"
   ]
  },
  {
   "cell_type": "code",
   "execution_count": null,
   "metadata": {},
   "outputs": [],
   "source": [
    "plot_variant_hist(samples, vcf_df_01, 'all', 'QUAL', bins=100, MSTD=True)"
   ]
  },
  {
   "cell_type": "markdown",
   "metadata": {},
   "source": [
    "#### Contingency Table After DP Cutoff by Mean±2StdDev"
   ]
  },
  {
   "cell_type": "code",
   "execution_count": null,
   "metadata": {},
   "outputs": [],
   "source": [
    "contingency_table_2 = contingency_table(samples, vcf_df_01, 'all')"
   ]
  },
  {
   "cell_type": "markdown",
   "metadata": {},
   "source": [
    "#### GT Plot After DP Cutoff by Mean±2StdDev"
   ]
  },
  {
   "cell_type": "code",
   "execution_count": null,
   "metadata": {},
   "outputs": [],
   "source": [
    "# plt.close('all')\n",
    "# GTplot(samples, vcf_df_01, chrom_len_00)"
   ]
  },
  {
   "cell_type": "markdown",
   "metadata": {},
   "source": [
    "#### Histogram 'GT' Attribute after DP Cutoff"
   ]
  },
  {
   "cell_type": "code",
   "execution_count": null,
   "metadata": {},
   "outputs": [],
   "source": [
    "plot_variant_hist(samples, vcf_df_01, 'all', '%s_GT' % progenitor, bins=15)"
   ]
  },
  {
   "cell_type": "code",
   "execution_count": null,
   "metadata": {},
   "outputs": [],
   "source": [
    "plot_variant_hist(samples, vcf_df_01, 'all', '%s_GT' % mutant, bins=15)"
   ]
  },
  {
   "cell_type": "markdown",
   "metadata": {},
   "source": [
    "## <span style=\"color:blue\"> PART 3: Extract Mutation `snp`/`mnp`/`ins`/`del`/`complex` from `TYPE` Attribute</span>"
   ]
  },
  {
   "cell_type": "markdown",
   "metadata": {},
   "source": [
    "#### Extract `snp`  `TYPE` Attribute"
   ]
  },
  {
   "cell_type": "code",
   "execution_count": null,
   "metadata": {},
   "outputs": [],
   "source": [
    "extract_type = \"TYPE == snp\"         # SNPs     \n",
    "# extract_type = \"TYPE == mnp\"         # MNPs\n",
    "# extract_type = \"TYPE == complex\"     # complex\n",
    "# extract_type = \"TYPE != snp, TYPE != mnp, TYPE != complex\"     # InDels\n",
    "vcf_df_02 = filter_vcf(vcf_df_01, extract_type)\n",
    "vcf_df_02"
   ]
  },
  {
   "cell_type": "markdown",
   "metadata": {},
   "source": [
    "#### TYPE `snp` Histogram Verification"
   ]
  },
  {
   "cell_type": "code",
   "execution_count": null,
   "metadata": {},
   "outputs": [],
   "source": [
    "plot_variant_hist(samples, vcf_df_02, 'all', 'TYPE', bins=5)"
   ]
  },
  {
   "cell_type": "markdown",
   "metadata": {},
   "source": [
    "#### Contingency Table - `snp` TYPE only"
   ]
  },
  {
   "cell_type": "code",
   "execution_count": null,
   "metadata": {},
   "outputs": [],
   "source": [
    "contingency_table_3 = contingency_table(samples, vcf_df_02, 'all')"
   ]
  },
  {
   "cell_type": "markdown",
   "metadata": {},
   "source": [
    "#### GT Plot - `snp` TYPE only"
   ]
  },
  {
   "cell_type": "code",
   "execution_count": null,
   "metadata": {},
   "outputs": [],
   "source": [
    "# plt.close('all')\n",
    "# GTplot(samples, vcf_df_02, chrom_len_00)"
   ]
  },
  {
   "cell_type": "markdown",
   "metadata": {},
   "source": [
    "#### Histograms - DP, QUAL, and GT Attributes after TYPE Filtering"
   ]
  },
  {
   "cell_type": "code",
   "execution_count": null,
   "metadata": {},
   "outputs": [],
   "source": [
    "plot_variant_hist(samples, vcf_df_02, 'all', 'DP', bins=200, MSTD=True, xmax=600)"
   ]
  },
  {
   "cell_type": "code",
   "execution_count": null,
   "metadata": {},
   "outputs": [],
   "source": [
    "plot_variant_hist(samples, vcf_df_02, 'all', 'QUAL', bins=200,  MSTD=True, xmax=7000)"
   ]
  },
  {
   "cell_type": "code",
   "execution_count": null,
   "metadata": {},
   "outputs": [],
   "source": [
    "plot_variant_hist(samples, vcf_df_02, 'all', '%s_GT' % progenitor, bins=15)"
   ]
  },
  {
   "cell_type": "code",
   "execution_count": null,
   "metadata": {},
   "outputs": [],
   "source": [
    "plot_variant_hist(samples, vcf_df_02, 'all', '%s_GT' % mutant, bins=15)"
   ]
  },
  {
   "cell_type": "markdown",
   "metadata": {},
   "source": [
    "## <span style=\"color:blue\"> PART 4: Cutting Off by Mean±StdDev Histograms of `QUAL` Attribute</span>"
   ]
  },
  {
   "cell_type": "code",
   "execution_count": null,
   "metadata": {},
   "outputs": [],
   "source": [
    "# cutoff_left = vcf_df_02.QUAL.mean() - vcf_df_02.QUAL.std()\n",
    "# cutoff_right = vcf_df_02.QUAL.mean() + vcf_df_02.QUAL.std()\n",
    "\n",
    "# filter_qual = \"QUAL >= %i, QUAL <= %i\" % (cutoff_left, cutoff_right)\n",
    "# print(filter_qual)\n",
    "\n",
    "# vcf_df_03 = filter_vcf(vcf_df_02, filter_qual)\n",
    "# vcf_df_03"
   ]
  },
  {
   "cell_type": "markdown",
   "metadata": {},
   "source": [
    "#### Verify `DP` and `QUAL` Histograms after `QUAL` Cutoff Off by Mean±StdDev"
   ]
  },
  {
   "cell_type": "code",
   "execution_count": null,
   "metadata": {},
   "outputs": [],
   "source": [
    "# plot_variant_hist(samples, vcf_df_03, 'all', 'DP', bins=200, xmax=200)"
   ]
  },
  {
   "cell_type": "code",
   "execution_count": null,
   "metadata": {},
   "outputs": [],
   "source": [
    "# plot_variant_hist(samples, vcf_df_03, 'all', 'QUAL', bins=100, xmax=3500)"
   ]
  },
  {
   "cell_type": "markdown",
   "metadata": {},
   "source": [
    "#### Contingency Table After QUAL Cutoff by Mean±StdDev"
   ]
  },
  {
   "cell_type": "code",
   "execution_count": null,
   "metadata": {},
   "outputs": [],
   "source": [
    "# contingency_table_4 = contingency_table(samples, vcf_df_03, 'all')"
   ]
  },
  {
   "cell_type": "markdown",
   "metadata": {},
   "source": [
    "#### GT Plot After QUAL Cutoff by Mean±StdDev"
   ]
  },
  {
   "cell_type": "code",
   "execution_count": null,
   "metadata": {},
   "outputs": [],
   "source": [
    "# plt.close('all')\n",
    "# GTplot(samples, vcf_df_03, chrom_len_00)"
   ]
  },
  {
   "cell_type": "markdown",
   "metadata": {},
   "source": [
    "#### Histograms after QUAL Cutoff by Mean±StdDev"
   ]
  },
  {
   "cell_type": "code",
   "execution_count": null,
   "metadata": {},
   "outputs": [],
   "source": [
    "# plot_variant_hist(samples, vcf_df_03, 'all', '%s_GT' % progenitor, bins=9)"
   ]
  },
  {
   "cell_type": "code",
   "execution_count": null,
   "metadata": {},
   "outputs": [],
   "source": [
    "# plot_variant_hist(samples, vcf_df_03, 'all', '%s_GT' % mutant, bins=9)"
   ]
  },
  {
   "cell_type": "markdown",
   "metadata": {},
   "source": [
    "## <span style=\"color:blue\"> PART 5: Filtering GTs 0/0, 1/1, 'Other' </span>"
   ]
  },
  {
   "cell_type": "markdown",
   "metadata": {},
   "source": [
    "#### Filter out where samples GTs are the same (0/0, 1/1) and have 'Other'"
   ]
  },
  {
   "cell_type": "code",
   "execution_count": null,
   "metadata": {},
   "outputs": [],
   "source": [
    "# change the progenitor name accordingly to filter out any other GTs present seen from GT Histogram\n",
    "progenitor_gts_filter = \"PAHAT_1_GT != ./., PAHAT_1_GT != 0/2, PAHAT_1_GT != 1/2, PAHAT_1_GT != 2/2, PAHAT_1_GT != 0/3, PAHAT_1_GT != 1/3, PAHAT_1_GT != 2/3, PAHAT_1_GT != 3/3\"\n",
    "\n",
    "# if uncommenting QUAL section to clip QUAL attribute, change vcf_df_02 to vcf_df_03 below\n",
    "vcf_df_04 = filter_vcf(vcf_df_02, progenitor_gts_filter)\n",
    "\n",
    "# change the progenitor name accordingly to filter out any other GTs present seen from GT Histogram\n",
    "mutant_gts_filter = \"GHP-2-2_GT != ./., GHP-2-2_GT != 0/2, GHP-2-2_GT != 1/2, GHP-2-2_GT != 2/2, GHP-2-2_GT != 0/3, GHP-2-2_GT != 1/3, GHP-2-2_GT != 2/3, GHP-2-2_GT != 3/3\"\n",
    "\n",
    "vcf_df_04 = filter_vcf(vcf_df_04, mutant_gts_filter)\n",
    "\n",
    "genotypes = ['0/0', '1/1']\n",
    "for genotype in genotypes:\n",
    "    vcf_df_04 = filter_similar_gt(samples, vcf_df_04, genotype)\n",
    "\n",
    "vcf_df_04"
   ]
  },
  {
   "cell_type": "markdown",
   "metadata": {},
   "source": [
    "#### Contingency Table after GT Filtering"
   ]
  },
  {
   "cell_type": "code",
   "execution_count": null,
   "metadata": {},
   "outputs": [],
   "source": [
    "contingency_table_5 = contingency_table(samples, vcf_df_04, 'all')"
   ]
  },
  {
   "cell_type": "markdown",
   "metadata": {},
   "source": [
    "#### GT Plot after GT Filtering"
   ]
  },
  {
   "cell_type": "code",
   "execution_count": null,
   "metadata": {},
   "outputs": [],
   "source": [
    "plt.close('all')\n",
    "GTplot(samples, vcf_df_04, chrom_len_00)"
   ]
  },
  {
   "cell_type": "markdown",
   "metadata": {},
   "source": [
    "#### Histograms GT after GT Filtering "
   ]
  },
  {
   "cell_type": "code",
   "execution_count": null,
   "metadata": {},
   "outputs": [],
   "source": [
    "plot_variant_hist(samples, vcf_df_04, 'all', '%s_GT' % progenitor, bins=9)"
   ]
  },
  {
   "cell_type": "code",
   "execution_count": null,
   "metadata": {},
   "outputs": [],
   "source": [
    "plot_variant_hist(samples, vcf_df_04, 'all', '%s_GT' % mutant, bins=9)"
   ]
  },
  {
   "cell_type": "markdown",
   "metadata": {},
   "source": [
    "## <span style=\"color:blue\"> PART 6: Stacked Bar Plots</span>"
   ]
  },
  {
   "cell_type": "code",
   "execution_count": null,
   "metadata": {},
   "outputs": [],
   "source": [
    "ct_guide()"
   ]
  },
  {
   "cell_type": "code",
   "execution_count": null,
   "metadata": {},
   "outputs": [],
   "source": [
    "plt.close('all')\n",
    "window_size = 1000000\n",
    "CTbarPlots(samples, vcf_df_04, chrom_len_00, window_size)"
   ]
  },
  {
   "cell_type": "markdown",
   "metadata": {},
   "source": [
    "## <span style=\"color:blue\"> PART 7: Bar Plots per Chromosome</span>"
   ]
  },
  {
   "cell_type": "code",
   "execution_count": null,
   "metadata": {},
   "outputs": [],
   "source": [
    "# suppress all the warnings from the inverted tickes of bar plots\n",
    "import warnings\n",
    "warnings.filterwarnings('ignore')\n",
    "\n",
    "plt.close('all')\n",
    "GTbarPlots(samples, vcf_df_04, chrom_len_00, window_size)"
   ]
  },
  {
   "cell_type": "markdown",
   "metadata": {},
   "source": [
    "## <span style=\"color:blue\"> PART 8: GT Plots per Chromosome</span>"
   ]
  },
  {
   "cell_type": "code",
   "execution_count": null,
   "metadata": {},
   "outputs": [],
   "source": [
    "plt.close('all')\n",
    "GTplots(samples, vcf_df_04, chrom_len_00)"
   ]
  },
  {
   "cell_type": "markdown",
   "metadata": {},
   "source": [
    "## <span style=\"color:blue\"> PART 9: Contingency Table per Chromosome</span>"
   ]
  },
  {
   "cell_type": "code",
   "execution_count": null,
   "metadata": {},
   "outputs": [],
   "source": [
    "import dataframe_image as dfi\n",
    "\n",
    "for chromosome in chrom_len_00.index:\n",
    "    chromosome_df = vcf_df_04[ vcf_df_04.CHROM == chromosome ]\n",
    "    \n",
    "    # reset chromosome_df indexes for contingency table\n",
    "    chromosome_df.reset_index(inplace=True, drop=True)\n",
    "    chromosome_ct = contingency_table(samples, chromosome_df, chromosome)"
   ]
  }
 ],
 "metadata": {
  "kernelspec": {
   "display_name": "Python 3",
   "language": "python",
   "name": "python3"
  },
  "language_info": {
   "codemirror_mode": {
    "name": "ipython",
    "version": 3
   },
   "file_extension": ".py",
   "mimetype": "text/x-python",
   "name": "python",
   "nbconvert_exporter": "python",
   "pygments_lexer": "ipython3",
   "version": "3.7.8"
  }
 },
 "nbformat": 4,
 "nbformat_minor": 4
}
